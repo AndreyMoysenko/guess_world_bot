{
 "cells": [
  {
   "cell_type": "code",
   "execution_count": 1,
   "metadata": {},
   "outputs": [],
   "source": [
    "import requests\n",
    "import time"
   ]
  },
  {
   "cell_type": "code",
   "execution_count": 2,
   "metadata": {},
   "outputs": [],
   "source": [
    "BASE_URL = \"http://127.0.0.1:5000\"\n",
    "\n",
    "def submit_prediction_request(input_text):\n",
    "    \"\"\"Send a POST request to the /predict endpoint.\"\"\"\n",
    "    response = requests.post(\n",
    "        f\"{BASE_URL}/predict\",\n",
    "        json={\"input_text\": input_text},\n",
    "    )\n",
    "    if response.status_code == 202:\n",
    "        return response.json()[\"task_id\"]\n",
    "    else:\n",
    "        raise Exception(f\"Error: {response.json()}\")\n",
    "\n",
    "def get_results(task_id):\n",
    "    \"\"\"Send a GET request to the /results/<task_id> endpoint.\"\"\"\n",
    "    response = requests.get(f\"{BASE_URL}/results/{task_id}\")\n",
    "    if response.status_code == 200:\n",
    "        return response.json()\n",
    "    else:\n",
    "        raise Exception(f\"Error: {response.json()}\")\n"
   ]
  },
  {
   "cell_type": "code",
   "execution_count": 5,
   "metadata": {},
   "outputs": [
    {
     "name": "stdout",
     "output_type": "stream",
     "text": [
      "Task ID: dfef954b-f74e-4e3e-80e4-c657a4e6e4ad\n"
     ]
    }
   ],
   "source": [
    "input_text = \"guess word: Это животное живет в лесу и ест мед\"\n",
    "task_id = submit_prediction_request(input_text)\n",
    "print(f\"Task ID: {task_id}\")\n"
   ]
  },
  {
   "cell_type": "code",
   "execution_count": 6,
   "metadata": {},
   "outputs": [
    {
     "name": "stdout",
     "output_type": "stream",
     "text": [
      "Predictions: ['медовуха', 'медонос', 'медовик', 'медовник', 'медосос']\n"
     ]
    }
   ],
   "source": [
    "while True:\n",
    "    result = get_results(task_id)\n",
    "    if result[\"status\"] == \"completed\":\n",
    "        print(\"Predictions:\", result[\"predictions\"])\n",
    "        break\n",
    "    elif result[\"status\"] == \"failed\":\n",
    "        print(\"Task failed:\", result[\"error\"])\n",
    "        break\n",
    "    else:\n",
    "        print(f\"Status: {result['status']} - Waiting for completion...\")\n",
    "        time.sleep(1)"
   ]
  },
  {
   "cell_type": "code",
   "execution_count": 7,
   "metadata": {},
   "outputs": [
    {
     "name": "stdout",
     "output_type": "stream",
     "text": [
      "Testing input: guess word: Это животное живет в лесу и ест мед\n",
      "Task ID: d6cf60a5-7c4d-4da7-83d2-60d421b4c607\n",
      "Status: pending - Waiting for completion...\n",
      "Predictions: ['медовуха', 'медовник', 'медонос', 'медовик', 'медосос']\n",
      "--------------------------------------------------\n",
      "Testing input: guess word: Самая высокая гора на Земле\n",
      "Task ID: 5ae24fa7-628b-4387-9ff8-dd34b4ff4bc1\n",
      "Status: pending - Waiting for completion...\n",
      "Predictions: ['гора', 'вершина', 'сопка', 'саван', 'пик']\n",
      "--------------------------------------------------\n",
      "Testing input: guess word: Это транспортное средство, движущееся по рельсам\n",
      "Task ID: 11d3bf79-ee0c-4d2e-bbfc-6db72d3c7c2b\n",
      "Status: pending - Waiting for completion...\n",
      "Predictions: ['рельса', 'поезд', 'вагон', 'рельсоход', 'рельс']\n",
      "--------------------------------------------------\n",
      "Testing input: guess word: Это город, известный как столица Франции\n",
      "Task ID: b908c2ed-1046-49da-bfb7-90d023c39ddf\n",
      "Status: pending - Waiting for completion...\n",
      "Predictions: ['Париж', 'город', 'Франция', 'лон', 'франк']\n",
      "--------------------------------------------------\n",
      "Testing input: guess word: Это орган, который перекачивает кровь по всему телу\n",
      "Task ID: 48895230-f144-4a04-9318-b1278fc02b7a\n",
      "Status: pending - Waiting for completion...\n",
      "Predictions: ['лимфа', 'кровь', 'сердце', 'артерии', 'венчик']\n",
      "--------------------------------------------------\n",
      "Testing input: guess word: Самая длинная река в мире\n",
      "Task ID: 79e06092-b746-43c8-bcca-1e081cf274c4\n",
      "Status: pending - Waiting for completion...\n",
      "Predictions: ['дельта', 'Волга', 'река', 'жемчужина', 'речка']\n",
      "--------------------------------------------------\n",
      "Testing input: guess word: Национальное блюдо Италии, сделанное из теста и сыра\n",
      "Task ID: 2ebbc820-fa11-4d7d-9502-bae28d2cec8e\n",
      "Status: pending - Waiting for completion...\n",
      "Predictions: ['пицца', 'итальянское блюдо', 'соус', 'итальянский пирог', 'итальянская кухня']\n",
      "--------------------------------------------------\n",
      "Testing input: guess word: Это устройство, которое позволяет делать фотографии\n",
      "Task ID: 895e2f71-a66d-48ff-bb78-1b8c34813266\n",
      "Status: pending - Waiting for completion...\n",
      "Predictions: ['фотоаппарат', 'фотограф', 'фотоаппарат', 'фотографа', 'фотография']\n",
      "--------------------------------------------------\n"
     ]
    }
   ],
   "source": [
    "test_inputs = [\n",
    "    \"guess word: Это животное живет в лесу и ест мед\",\n",
    "    \"guess word: Самая высокая гора на Земле\",\n",
    "    \"guess word: Это транспортное средство, движущееся по рельсам\",\n",
    "    \"guess word: Это город, известный как столица Франции\",\n",
    "    \"guess word: Это орган, который перекачивает кровь по всему телу\",\n",
    "    \"guess word: Самая длинная река в мире\",\n",
    "    \"guess word: Национальное блюдо Италии, сделанное из теста и сыра\",\n",
    "    \"guess word: Это устройство, которое позволяет делать фотографии\"\n",
    "]\n",
    "\n",
    "for input_text in test_inputs:\n",
    "    print(f\"Testing input: {input_text}\")\n",
    "    task_id = submit_prediction_request(input_text)\n",
    "    print(f\"Task ID: {task_id}\")\n",
    "\n",
    "    while True:\n",
    "        result = get_results(task_id)\n",
    "        if result[\"status\"] == \"completed\":\n",
    "            print(\"Predictions:\", result[\"predictions\"])\n",
    "            break\n",
    "        elif result[\"status\"] == \"failed\":\n",
    "            print(\"Task failed:\", result[\"error\"])\n",
    "            break\n",
    "        else:\n",
    "            print(f\"Status: {result['status']} - Waiting for completion...\")\n",
    "            time.sleep(1)\n",
    "    print(\"-\" * 50)\n"
   ]
  },
  {
   "cell_type": "code",
   "execution_count": null,
   "metadata": {},
   "outputs": [],
   "source": []
  }
 ],
 "metadata": {
  "kernelspec": {
   "display_name": "lsml_env",
   "language": "python",
   "name": "python3"
  },
  "language_info": {
   "codemirror_mode": {
    "name": "ipython",
    "version": 3
   },
   "file_extension": ".py",
   "mimetype": "text/x-python",
   "name": "python",
   "nbconvert_exporter": "python",
   "pygments_lexer": "ipython3",
   "version": "3.12.8"
  }
 },
 "nbformat": 4,
 "nbformat_minor": 2
}
